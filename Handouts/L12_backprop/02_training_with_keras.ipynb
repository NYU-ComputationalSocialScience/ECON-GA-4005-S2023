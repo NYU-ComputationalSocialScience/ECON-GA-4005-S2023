{
 "cells": [
  {
   "cell_type": "markdown",
   "id": "48e457a4",
   "metadata": {
    "slideshow": {
     "slide_type": "slide"
    },
    "tags": []
   },
   "source": [
    "# Training Tips\n",
    "\n",
    "**Prerequisites**\n",
    "\n",
    "- Tensorflow\n",
    "- SGD\n",
    "- MLP\n",
    "\n",
    "**Outcomes**\n",
    "\n",
    "- Understand the arguments to the keras `.fit` method\n",
    "- Be able to use tensorboard to track training progress\n",
    "- Be able to save a trained model and load it from disk for prediction\n",
    "- Introduce concept of transfer learning"
   ]
  },
  {
   "cell_type": "code",
   "execution_count": null,
   "id": "90d67410",
   "metadata": {},
   "outputs": [],
   "source": [
    "import tensorflow as tf\n",
    "from tensorflow import keras\n",
    "\n",
    "import matplotlib.pyplot as plt\n",
    "import numpy as np"
   ]
  },
  {
   "cell_type": "markdown",
   "id": "8b440c62",
   "metadata": {},
   "source": [
    "## Practical Keras\n",
    "\n",
    "- We've done some heavy lifting on math side\n",
    "- Now let's add in a touch of practicality and go over some best practices and features of using keras\n"
   ]
  },
  {
   "cell_type": "markdown",
   "id": "728ae601",
   "metadata": {},
   "source": [
    "### Dataset\n",
    "\n",
    "- The exact problem we are solving isn't extremely relevant here as our focus is on the techniques\n",
    "- That being said, we may as well have fun while we are at it!\n",
    "- This dataset is called \"Fashion MNIST\""
   ]
  },
  {
   "cell_type": "markdown",
   "id": "267ae967",
   "metadata": {
    "tags": []
   },
   "source": [
    "### Fashion MNIST\n",
    "\n",
    "- Once MNIST was too easy for new ML models and algorithms, the researchers in the field created a new challenge: [Fashion MNIST](https://github.com/zalandoresearch/fashion-mnist)\n",
    "- Instead of pictures of hand written digits, the Fashion MNIST dataset contains low-resolution images of articles of clothing\n",
    "\n",
    "| Label | Description |\n",
    "| --- | --- |\n",
    "| 0 | T-shirt/top |\n",
    "| 1 | Trouser |\n",
    "| 2 | Pullover |\n",
    "| 3 | Dress |\n",
    "| 4 | Coat |\n",
    "| 5 | Sandal |\n",
    "| 6 | Shirt |\n",
    "| 7 | Sneaker |\n",
    "| 8 | Bag |\n",
    "| 9 | Ankle boot |\n"
   ]
  },
  {
   "cell_type": "code",
   "execution_count": null,
   "id": "2b9fc4ce",
   "metadata": {},
   "outputs": [],
   "source": [
    "(x_train, y_train), (x_test, y_test) = keras.datasets.fashion_mnist.load_data()\n",
    "\n",
    "# Rescale the images from [0,255] to the [0.0,1.0] range.\n",
    "x_train, x_test = x_train[..., np.newaxis]/255.0, x_test[..., np.newaxis]/255.0\n",
    "\n",
    "print(\"Number of original training examples:\", len(x_train))\n",
    "print(\"Number of original test examples:\", len(x_test))\n",
    "\n",
    "fig, ax = plt.subplots(1, 4, figsize=(10, 6))\n",
    "for i in range(4):\n",
    "    ax[i].imshow(x_train[i, :, :, 0])"
   ]
  },
  {
   "cell_type": "markdown",
   "id": "185f1c07",
   "metadata": {},
   "source": [
    "- Let's also define a helper function that will let us quickly define a new model so we can experiment later on"
   ]
  },
  {
   "cell_type": "code",
   "execution_count": null,
   "id": "7118b70d",
   "metadata": {},
   "outputs": [],
   "source": [
    "def build_model():\n",
    "    # 1. define model\n",
    "    model = tf.keras.models.Sequential([\n",
    "      tf.keras.layers.Flatten(input_shape=(28, 28)),\n",
    "      tf.keras.layers.Dense(128, activation='relu'),\n",
    "      tf.keras.layers.Dense(10, activation=\"softmax\")\n",
    "    ])\n",
    "\n",
    "    # 2 compile model (choose optimizer and loss)\n",
    "    model.compile(\n",
    "        optimizer=tf.keras.optimizers.RMSprop(),\n",
    "        loss=tf.keras.losses.SparseCategoricalCrossentropy(),\n",
    "        metrics=[tf.keras.metrics.SparseCategoricalAccuracy()],\n",
    "    )\n",
    "    return model\n",
    "\n",
    "model = build_model()"
   ]
  },
  {
   "cell_type": "markdown",
   "id": "f11eb8c9",
   "metadata": {},
   "source": [
    "## Arguments to`.fit`\n",
    "\n",
    "- Keras is a very powerful and flexible framework\n",
    "- This is necessary to handle the breadth of ML tasks the modern researcher has to perform\n",
    "- A lot of the flexibility is in the fit method\n",
    "    - `batch_size`\n",
    "    - `class_weight` and `sample_weight` for imbalanced datasets\n",
    "    - `initial_epoch` to continue training\n",
    "    - `validation_split` if we want keras to split for us\n",
    "    \n",
    "Reference: https://www.tensorflow.org/guide/keras/customizing_what_happens_in_fitReference: https://www.tensorflow.org/guide/keras/customizing_what_happens_in_fit"
   ]
  },
  {
   "cell_type": "markdown",
   "id": "6e294795",
   "metadata": {},
   "source": [
    "## Tensorboard\n",
    "\n",
    "- On large problems (either in number of observations or size of network), training can take a very long time\n",
    "- Sometimes it is helpful to be able to monitor the progress of training\n",
    "- Tensorflow has a built-in feature called tensorboard that allows you to see a live dashboard of training as it is happening"
   ]
  },
  {
   "cell_type": "markdown",
   "id": "e5647a8b",
   "metadata": {},
   "source": [
    "### Tensorboard with Keras\n",
    "\n",
    "- When using keras, it is very easy to integrate tensorboard\n",
    "- There are three main concepts:\n",
    "    1. Choose a directory for keras to write \"logs\"\n",
    "    2. Set up the tensorboard callback for the `.fit` method\n",
    "    3. Start tensorboard and point it at logs directory\n"
   ]
  },
  {
   "cell_type": "markdown",
   "id": "0a25b21a",
   "metadata": {},
   "source": [
    "We'll start the training below and load up tensorboard at the same time\n",
    "\n",
    "> Note: there is much more you can do with tensorboard... we are only covering the basics. Check out their [docs](https://www.tensorflow.org/tensorboard) for more ideas and details"
   ]
  },
  {
   "cell_type": "code",
   "execution_count": null,
   "id": "f3035728",
   "metadata": {},
   "outputs": [],
   "source": [
    "# step 1, choose logs directory\n",
    "import datetime\n",
    "timestamp = datetime.datetime.now().strftime(\"%Y-%m-%d-%H_%M\")\n",
    "log_dir = \"fashion_mnist_logs/fit/{}\".format(timestamp)\n",
    "\n",
    "# step 2. set up callback\n",
    "tensorboard_callback = tf.keras.callbacks.TensorBoard(log_dir=log_dir, histogram_freq=1)\n",
    "\n",
    "# step 3. fit model\n",
    "model.fit(x=x_train, \n",
    "          y=y_train, \n",
    "          epochs=30, \n",
    "          validation_data=(x_test, y_test), \n",
    "          callbacks=[tensorboard_callback])"
   ]
  },
  {
   "cell_type": "markdown",
   "id": "aca3c9bc",
   "metadata": {},
   "source": [
    "## Using our models \n",
    "\n",
    "- Now that we have fit our model, let's use it!"
   ]
  },
  {
   "cell_type": "markdown",
   "id": "94be9843",
   "metadata": {},
   "source": [
    "### Prediction (inference)\n",
    "\n",
    "- We can predict the label for new images using the `.predict` method\n",
    "- Using a trained model to make a prediction is called prediction, or sometimes by the deep learning community \"inference\""
   ]
  },
  {
   "cell_type": "code",
   "execution_count": null,
   "id": "9eddb186",
   "metadata": {},
   "outputs": [],
   "source": [
    "model.predict(x_test[3:4])"
   ]
  },
  {
   "cell_type": "markdown",
   "id": "2a13988a",
   "metadata": {},
   "source": [
    "- In this case the model seems very confident that the correct label is `1`\n",
    "- From the table above, the label `1` corresponds to \"Trouser\"\n",
    "- Let's see what the image looked like and what the true label is"
   ]
  },
  {
   "cell_type": "code",
   "execution_count": null,
   "id": "d15d0121",
   "metadata": {},
   "outputs": [],
   "source": [
    "plt.imshow(x_test[3])\n",
    "print(y_test[3])"
   ]
  },
  {
   "cell_type": "markdown",
   "id": "706dddf3",
   "metadata": {},
   "source": [
    "- Sure enough -- looks like pants and that's what the target was"
   ]
  },
  {
   "cell_type": "markdown",
   "id": "a2286b11",
   "metadata": {},
   "source": [
    "### Saving and Loading Models\n",
    "\n",
    "- When using a machine learning in practice, we often need to train it in one python Session and use it somewhere else\n",
    "- This will require that we can effectively save and load a model to a hard disk\n",
    "- The `model.save` function will do just this"
   ]
  },
  {
   "cell_type": "code",
   "execution_count": null,
   "id": "d1273d69",
   "metadata": {},
   "outputs": [],
   "source": [
    "!ls"
   ]
  },
  {
   "cell_type": "code",
   "execution_count": null,
   "id": "874e16d9",
   "metadata": {},
   "outputs": [],
   "source": [
    "model.save(\"fashion_mnist_model.h5\")\n",
    "!ls"
   ]
  },
  {
   "cell_type": "code",
   "execution_count": null,
   "id": "eadf60a1",
   "metadata": {},
   "outputs": [],
   "source": [
    "loaded_model = keras.models.load_model(\"fashion_mnist_model.h5\")"
   ]
  },
  {
   "cell_type": "code",
   "execution_count": null,
   "id": "29bc4d0e",
   "metadata": {},
   "outputs": [],
   "source": [
    "loaded_model.predict(x_test[3:4])"
   ]
  },
  {
   "cell_type": "markdown",
   "id": "41ff4adf",
   "metadata": {},
   "source": [
    "## Transfer Learning\n",
    "\n",
    "- There are a few sub-problems in ML that are very well studied\n",
    "- You might even say they are mostly \"solved\"\n",
    "- One of this is image recognition -- we'll focus on this subproblem for the next few minutes\n",
    "- Question: can we leverage models trained on one dataset for prediction on another?"
   ]
  },
  {
   "cell_type": "markdown",
   "id": "9e1217dd",
   "metadata": {},
   "source": [
    "### Network Intuitions\n",
    "\n",
    "- Because of the nested functions and many parameters, it is difficult to tell exactly why a neural network does what it does\n",
    "- It is somewhat of a \"black box\"\n",
    "- However, some work has been done to support a hypothesis that a network works as follows:\n",
    "    - Early layers in the network learn basic features: e.g. how to recognize a line, how to find the color red\n",
    "    - Subsequent layers know how to combine multiple basic features: a red line, or two lines that intersect at a right angle\n",
    "    - Later layers in the network combine the more advanced features into sophisticated representations: a long straight line with a red-eight sided polygon on top of it (a US stop sign)"
   ]
  },
  {
   "cell_type": "markdown",
   "id": "ee085c0e",
   "metadata": {},
   "source": [
    "### Transfer Learning\n",
    "\n",
    "- Because early layers find general features that appear in most images, the weights/biases they learn can be useful across problem domains:\n",
    "    - Dogs vs cats\n",
    "    - Digits\n",
    "    - Find your friends in a photo\n",
    "- Later layers use these generally applicable learned representations to tailor predictions to a task\n",
    "- This is the idea behind transfer learning: use an expertly crafted and trained neural network for your own task (even if it was trained for a different task of the same type)"
   ]
  },
  {
   "cell_type": "markdown",
   "id": "3cc82239",
   "metadata": {},
   "source": [
    "### Example: MobileNet\n",
    "\n",
    "- Typically, models that achieve state of the art performance are given names\n",
    "- One such model is called `MobileNet`\n",
    "- This model is famous because it has excellent performance, but is relatively small (compared to other modern neural networks) and thus applicable for mobile devices\n",
    "- Let's apply `MobileNet` on our Fashion MNIST example"
   ]
  },
  {
   "cell_type": "markdown",
   "id": "db063930",
   "metadata": {},
   "source": [
    "#### Transfer learning strategy\n",
    "\n",
    "1. Define the shape of our data (28, 28, 1) -- necessary b/c MobileNet was trained images of a different size\n",
    "2. Load model, without final layer for predictions. Freeze all weights\n",
    "3. Add a `Dense(10)` layer to end of network for our problem\n",
    "4. Train our layer\n",
    "\n",
    "> Note: don't focus on code here -- just focus on the fact that this is possible. It is pretty incredible!"
   ]
  },
  {
   "cell_type": "code",
   "execution_count": null,
   "id": "477a9d37",
   "metadata": {},
   "outputs": [],
   "source": [
    "# step 1. define shapes\n",
    "input_image = keras.layers.Input(shape=(28, 28, 3))\n",
    "resized_image = keras.layers.Lambda(lambda image: keras.backend.resize_images(x=image, height_factor=2, width_factor=2, data_format='channels_last'))(input_image)\n",
    "\n",
    "# step 2. load model. set weights to fixed\n",
    "base_model = keras.applications.mobilenet_v2.MobileNetV2(weights='imagenet', include_top=False, input_tensor=resized_image)\n",
    "\n",
    "# don't change parameters of the MobileNet model\n",
    "base_model.trainable = False\n",
    "\n",
    "# step 3. add some layers\n",
    "x = base_model.output\n",
    "x = keras.layers.Dropout(0.5)(x)\n",
    "x = keras.layers.GlobalAveragePooling2D()(x)\n",
    "predictions = keras.layers.Dense(10, activation='softmax')(x)\n",
    "\n",
    "# build model\n",
    "transfer_model = keras.models.Model(inputs=base_model.input, outputs=predictions)"
   ]
  },
  {
   "cell_type": "code",
   "execution_count": null,
   "id": "f88747ee",
   "metadata": {},
   "outputs": [],
   "source": [
    "# step 4. fit our layers\n",
    "transfer_model.compile(\n",
    "    optimizer='rmsprop', \n",
    "    loss='sparse_categorical_crossentropy', \n",
    "    metrics=[tf.keras.metrics.SparseCategoricalAccuracy()]\n",
    ")\n",
    "\n",
    "log_dir = \"fashion_mnist_logs/mobilenet/fit/{}\".format(timestamp)\n",
    "\n",
    "# step 2. set up callback\n",
    "tensorboard_callback = tf.keras.callbacks.TensorBoard(log_dir=log_dir, histogram_freq=1)\n",
    "\n",
    "\n",
    "transfer_history = transfer_model.fit(\n",
    "    np.repeat(x_train, 3, -1), y_train, \n",
    "    epochs=30, \n",
    "    validation_data=(np.repeat(x_test, 3, -1), y_test),\n",
    "    callbacks=[tensorboard_callback]\n",
    ")"
   ]
  },
  {
   "cell_type": "code",
   "execution_count": null,
   "id": "54d8e8ea",
   "metadata": {},
   "outputs": [],
   "source": []
  }
 ],
 "metadata": {
  "kernelspec": {
   "display_name": "css",
   "language": "python",
   "name": "css"
  },
  "language_info": {
   "codemirror_mode": {
    "name": "ipython",
    "version": 3
   },
   "file_extension": ".py",
   "mimetype": "text/x-python",
   "name": "python",
   "nbconvert_exporter": "python",
   "pygments_lexer": "ipython3",
   "version": "3.9.2"
  }
 },
 "nbformat": 4,
 "nbformat_minor": 5
}
